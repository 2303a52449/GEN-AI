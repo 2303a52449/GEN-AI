{
  "nbformat": 4,
  "nbformat_minor": 0,
  "metadata": {
    "colab": {
      "provenance": [],
      "authorship_tag": "ABX9TyPWMQDycgxdw9XC1vQ2fa5q",
      "include_colab_link": true
    },
    "kernelspec": {
      "name": "python3",
      "display_name": "Python 3"
    },
    "language_info": {
      "name": "python"
    }
  },
  "cells": [
    {
      "cell_type": "markdown",
      "metadata": {
        "id": "view-in-github",
        "colab_type": "text"
      },
      "source": [
        "<a href=\"https://colab.research.google.com/github/2303a52449/GEN-AI/blob/main/GENAI_3.ipynb\" target=\"_parent\"><img src=\"https://colab.research.google.com/assets/colab-badge.svg\" alt=\"Open In Colab\"/></a>"
      ]
    },
    {
      "cell_type": "markdown",
      "source": [
        "Write Python code without using any libraries to find the value of x at which the\n",
        "function f(x) shown in equation (1) has minimum value. Consider Gradient Descent Algorithm.\n",
        "f (x) = 5x^4 + 3x^2 + 10"
      ],
      "metadata": {
        "id": "-8r9Wr5h-6ID"
      }
    },
    {
      "cell_type": "code",
      "execution_count": null,
      "metadata": {
        "colab": {
          "base_uri": "https://localhost:8080/"
        },
        "id": "pig4ADum-0BI",
        "outputId": "01f0f404-2f30-47e1-80de-281bd9fd3668"
      },
      "outputs": [
        {
          "output_type": "stream",
          "name": "stdout",
          "text": [
            "Converged after 166 iterations.\n",
            "The minimum value of f(x) is approximately 10.000000000802812 at x = 1.63586104206045e-05\n"
          ]
        }
      ],
      "source": [
        "def f(x):\n",
        "    return 5 * x**4 + 3 * x**2 + 10\n",
        "\n",
        "def df(x):\n",
        "    return 20 * x**3 + 6 * x\n",
        "\n",
        "def gradient_descent(alpha, max_iter, tolerance, initial_x):\n",
        "    x = initial_x\n",
        "        for i in range(max_iter):\n",
        "        grad = df(x)\n",
        "        new_x = x - alpha * grad\n",
        "        if abs(new_x - x) < tolerance:\n",
        "            print(f\"Converged after {i+1} iterations.\")\n",
        "            break\n",
        "\n",
        "        x = new_x\n",
        "\n",
        "    return x\n",
        "\n",
        "learning_rate = 0.01\n",
        "max_iterations = 10000\n",
        "tolerance = 1e-6\n",
        "initial_guess = 1.0\n",
        "\n",
        "min_x = gradient_descent(learning_rate, max_iterations, tolerance, initial_guess)\n",
        "min_value = f(min_x)\n",
        "\n",
        "print(f\"The minimum value of f(x) is approximately {min_value} at x = {min_x}\")\n"
      ]
    },
    {
      "cell_type": "markdown",
      "source": [
        "Write Python code without using any libraries to find the value of x and y at which the\n",
        "function g(x,y) shown in equation (2) has minimum value. Consider Gradient Descent Algorithm.\n",
        "f (x) = 3x^2 + 5e^−y + 10"
      ],
      "metadata": {
        "id": "uvaSQ49x_p2_"
      }
    },
    {
      "cell_type": "code",
      "source": [
        "def f(x, y):\n",
        "    return 3 * x**2 + 5 * (2.71828**(-y)) + 10\n",
        "\n",
        "def df_dx(x, y):\n",
        "    return 6 * x\n",
        "\n",
        "def df_dy(x, y):\n",
        "    return -5 * (2.71828**(-y))\n",
        "\n",
        "def gradient_descent_2d(alpha, max_iter, tolerance, initial_x, initial_y):\n",
        "    x, y = initial_x, initial_y\n",
        "    for i in range(max_iter):\n",
        "        grad_x = df_dx(x, y)\n",
        "        grad_y = df_dy(x, y)\n",
        "\n",
        "        new_x = x - alpha * grad_x\n",
        "        new_y = y - alpha * grad_y\n",
        "\n",
        "        if abs(new_x - x) < tolerance and abs(new_y - y) < tolerance:\n",
        "            print(f\"Converged after {i+1} iterations.\")\n",
        "            break\n",
        "\n",
        "        x, y = new_x, new_y\n",
        "\n",
        "    return x, y\n",
        "\n",
        "learning_rate = 0.01\n",
        "max_iterations = 10000\n",
        "tolerance = 1e-6\n",
        "initial_guess_x = 1.0\n",
        "initial_guess_y = 1.0\n",
        "\n",
        "min_x, min_y = gradient_descent_2d(learning_rate, max_iterations, tolerance, initial_guess_x, initial_guess_y)\n",
        "min_value = f(min_x, min_y)\n",
        "\n",
        "print(f\"The minimum value of g(x, y) is approximately {min_value} at x = {min_x}, y = {min_y}\")\n"
      ],
      "metadata": {
        "colab": {
          "base_uri": "https://localhost:8080/"
        },
        "id": "FD3cvfLi_quQ",
        "outputId": "a1fc6655-fe9f-4376-dfa7-374ebf5f49cd"
      },
      "execution_count": null,
      "outputs": [
        {
          "output_type": "stream",
          "name": "stdout",
          "text": [
            "The minimum value of g(x, y) is approximately 10.009943350656059 at x = 1.8990482403275175e-269, y = 6.220293323511809\n"
          ]
        }
      ]
    },
    {
      "cell_type": "markdown",
      "source": [
        "Write Python code without using any libraries to find the value of x at which the\n",
        "sigmoid function z(x) shown in equation (3) has minimum value. Consider Gradient Descent\n",
        "Algorithm.\n",
        "z(x) = 1/\n",
        "1 + e^−x"
      ],
      "metadata": {
        "id": "dHoK30q3FBO5"
      }
    },
    {
      "cell_type": "code",
      "source": [
        "def z(x):\n",
        "    return 1 / (1 + 2.71828**(-x))\n",
        "\n",
        "def dz_dx(x):\n",
        "    sigmoid = z(x)\n",
        "    return sigmoid * (1 - sigmoid)\n",
        "\n",
        "def gradient_descent_sigmoid(alpha, max_iter, tolerance, initial_x):\n",
        "    x = initial_x\n",
        "    for i in range(max_iter):\n",
        "        grad = dz_dx(x)\n",
        "        new_x = x - alpha * grad\n",
        "        if abs(new_x - x) < tolerance:\n",
        "            print(f\"Converged after {i+1} iterations.\")\n",
        "            break\n",
        "\n",
        "        x = new_x\n",
        "\n",
        "    return x\n",
        "\n",
        "learning_rate = 0.01\n",
        "max_iterations = 10000\n",
        "tolerance = 1e-6\n",
        "initial_guess = 1.0\n",
        "\n",
        "min_x = gradient_descent_sigmoid(learning_rate, max_iterations, tolerance, initial_guess)\n",
        "min_value = z(min_x)\n",
        "\n",
        "print(f\"The minimum value of z(x) is approximately {min_value} at x = {min_x}\")\n"
      ],
      "metadata": {
        "colab": {
          "base_uri": "https://localhost:8080/"
        },
        "id": "dGffrNh6FCLC",
        "outputId": "04543d79-8974-47ef-9241-ce09273787fc"
      },
      "execution_count": null,
      "outputs": [
        {
          "output_type": "stream",
          "name": "stdout",
          "text": [
            "The minimum value of z(x) is approximately 0.011396100499178314 at x = -4.463025511990582\n"
          ]
        }
      ]
    },
    {
      "cell_type": "markdown",
      "source": [
        "Write Python code without using any libraries to find the value of optimal values of\n",
        "model parameters M and C such that the model’s Square Error Value shown in equation 4 will\n",
        "be minimum. It means model gives output close to expected output as shown in Figure"
      ],
      "metadata": {
        "id": "FV7gkzYoGdUR"
      }
    },
    {
      "cell_type": "code",
      "source": [
        "def model_output(M, C, input_value):\n",
        "    return M * input_value + C\n",
        "\n",
        "def squared_error(M, C, input_value, expected_output):\n",
        "    output = model_output(M, C, input_value)\n",
        "    return (expected_output - output) ** 2\n",
        "\n",
        "def dE_dM(M, C, input_value, expected_output):\n",
        "    output = model_output(M, C, input_value)\n",
        "    return -2 * input_value * (expected_output - output)\n",
        "\n",
        "def dE_dC(M, C, input_value, expected_output):\n",
        "    output = model_output(M, C, input_value)\n",
        "    return -2 * (expected_output - output)\n",
        "\n",
        "def gradient_descent_M_C(alpha, max_iter, tolerance, initial_M, initial_C, input_value, expected_output):\n",
        "    M, C = initial_M, initial_C\n",
        "    for i in range(max_iter):\n",
        "        grad_M = dE_dM(M, C, input_value, expected_output)\n",
        "        grad_C = dE_dC(M, C, input_value, expected_output)\n",
        "\n",
        "        new_M = M - alpha * grad_M\n",
        "        new_C = C - alpha * grad_C\n",
        "\n",
        "        if abs(new_M - M) < tolerance and abs(new_C - C) < tolerance:\n",
        "            print(f\"Converged after {i+1} iterations.\")\n",
        "            break\n",
        "\n",
        "        M, C = new_M, new_C\n",
        "\n",
        "    return M, C\n",
        "\n",
        "learning_rate = 0.01\n",
        "max_iterations = 10000\n",
        "tolerance = 1e-6\n",
        "initial_M = 0.0\n",
        "initial_C = 0.0\n",
        "input_value = 2.0\n",
        "expected_output = 0.5\n",
        "\n",
        "optimal_M, optimal_C = gradient_descent_M_C(learning_rate, max_iterations, tolerance, initial_M, initial_C, input_value, expected_output)\n",
        "min_error = squared_error(optimal_M, optimal_C, input_value, expected_output)\n",
        "\n",
        "print(f\"The optimal values are M = {optimal_M}, C = {optimal_C}.\")\n",
        "print(f\"The minimum squared error is approximately {min_error}.\")\n"
      ],
      "metadata": {
        "colab": {
          "base_uri": "https://localhost:8080/"
        },
        "id": "mgJtRaR_Gc-8",
        "outputId": "e712ddfa-50a1-4850-9041-dbac03807299"
      },
      "execution_count": null,
      "outputs": [
        {
          "output_type": "stream",
          "name": "stdout",
          "text": [
            "Converged after 95 iterations.\n",
            "The optimal values are M = 0.1999900040083894, C = 0.0999950020041947.\n",
            "The minimum squared error is approximately 6.244990517449996e-10.\n"
          ]
        }
      ]
    }
  ]
}